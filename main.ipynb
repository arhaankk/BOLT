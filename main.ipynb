{
 "cells": [
  {
   "cell_type": "code",
   "execution_count": 1,
   "metadata": {},
   "outputs": [],
   "source": [
    "import os\n",
    "from langchain_groq import ChatGroq\n",
    "from langchain_openai import ChatOpenAI\n",
    "from  dotenv import load_dotenv\n",
    "\n",
    "# load_dotenv()\n",
    "# groq_api_key = os.getenv(\"GROQ_API_KEY\")\n",
    "# os.environ[\"GROQ_API_KEY\"] = groq_api_key\n",
    "# model = ChatGroq(\n",
    "#     model=\"llama-3.1-70b-versatile\"\n",
    "# )\n",
    "openai_api_key = os.getenv(\"OPENAI_API_KEY\")\n",
    "os.environ[\"OPENAI_API_KEY\"] = openai_api_key\n",
    "model = ChatOpenAI(\n",
    "    model=\"gpt-4o-mini\"\n",
    ")"
   ]
  },
  {
   "cell_type": "code",
   "execution_count": null,
   "metadata": {},
   "outputs": [],
   "source": [
    "import bs4\n",
    "from langchain_community.document_loaders import WebBaseLoader, TextLoader\n",
    "\n",
    "# bs4_strainer = bs4.SoupStrainer(class_=(\"clearfix text-formatted field field--name-body field--type-text-with-summary field--label-hidden field__item\"))\n",
    "# loader = WebBaseLoader(\n",
    "#     web_paths=(\"https://okanagan.calendar.ubc.ca/faculties-schools-and-colleges/faculty-creative-and-critical-studies/bachelor-media-studies-program/academic-regulations\",),\n",
    "#     bs_kwargs={\"parse_only\": bs4_strainer},\n",
    "# )\n",
    "\n",
    "# data = {\n",
    "#     \"https://students.ok.ubc.ca/academic-success/advising-options/academic-advising/frequently-asked-questions/#lab\" : \"ok-wysiwyg-wrapper\",\n",
    "#     \"https://okanagan.calendar.ubc.ca/faculties-schools-and-colleges/faculty-creative-and-critical-studies/bachelor-media-studies-program/academic-regulations\" : \"clearfix text-formatted field field--name-body field--type-text-with-summary field--label-hidden field__item\",\n",
    "#     \"https://students.ok.ubc.ca/ws-tutorial/viewing-your-transfer-credit-or-high-school-and-ap-ib-credit/\" : \"tutorial-content\",\n",
    "#     \"https://okanagan.calendar.ubc.ca/admissions/change-degree-program\" : \"clearfix text-formatted field field--name-body field--type-text-with-summary field--label-hidden field__item\",\n",
    "#     \"https://you.ubc.ca/applying-ubc/applied/first-year-credit-ok/\" : \"expand row-fluid\"\n",
    "# }\n",
    "\n",
    "# docs = []\n",
    "\n",
    "# def scrape_web(url: str, class_name: str):\n",
    "#     bs4_strainer = bs4.SoupStrainer(class_=class_name)\n",
    "#     loader = WebBaseLoader(\n",
    "#         web_path=[url],\n",
    "#         bs_kwargs={\"parse_only\": bs4_strainer}\n",
    "#     )\n",
    "#     docs.extend(loader.load())\n",
    "\n",
    "# for url, class_name in data.items():\n",
    "#     scrape_web(url, class_name)\n",
    "\n",
    "# for doc in docs:\n",
    "#     print(len(doc.page_content))\n",
    "\n",
    "data = [\"data/transfer_credits.txt\", \"data/academic_regulation.txt\", \"data/major_minor.txt\", \"data/course_withdrawal.txt\", \"data/graduation.txt\",\n",
    "        \"data/degree_program_options.txt\", \"data/final_exams_cosc.txt\", \"data/final_exams_data.txt\", \"data/final_exams_math.txt\", \"data/final_exams_phil.txt\", \"data/final_exams_stat.txt\"]\n",
    "\n",
    "docs = []\n",
    "\n",
    "for file in data:\n",
    "    loader = TextLoader(file)\n",
    "    docs.extend(loader.load())\n",
    "\n",
    "[print(len(doc.page_content)) for doc in docs]"
   ]
  },
  {
   "cell_type": "code",
   "execution_count": null,
   "metadata": {},
   "outputs": [],
   "source": [
    "print(docs[0].page_content[:1000])"
   ]
  },
  {
   "cell_type": "code",
   "execution_count": null,
   "metadata": {},
   "outputs": [],
   "source": [
    "from langchain_text_splitters import RecursiveCharacterTextSplitter\n",
    "\n",
    "text_splitter = RecursiveCharacterTextSplitter(\n",
    "    chunk_size = 1000,\n",
    "    chunk_overlap = 200,\n",
    "    add_start_index = True\n",
    ")\n",
    "\n",
    "all_splits = text_splitter.split_documents(docs)\n",
    "len(all_splits)"
   ]
  },
  {
   "cell_type": "code",
   "execution_count": null,
   "metadata": {},
   "outputs": [],
   "source": [
    "len(all_splits[0].page_content)"
   ]
  },
  {
   "cell_type": "code",
   "execution_count": 135,
   "metadata": {},
   "outputs": [],
   "source": [
    "# all_splits[10].metadata"
   ]
  },
  {
   "cell_type": "code",
   "execution_count": 136,
   "metadata": {},
   "outputs": [],
   "source": [
    "from langchain_openai import OpenAIEmbeddings\n",
    "from langchain_pinecone import Pinecone, PineconeVectorStore\n",
    "import pinecone\n",
    "\n",
    "load_dotenv()\n",
    "pinecone_api_key = os.getenv('PINECONE_API_KEY')\n",
    "os.environ[\"PINECONE_API_KEY\"] = pinecone_api_key\n",
    "\n",
    "openai_api_key = os.getenv(\"OPENAI_API_KEY\")\n",
    "os.environ[\"OPENAI_API_KEY\"] = openai_api_key\n",
    "\n",
    "embeddings = OpenAIEmbeddings(\n",
    "    model=\"text-embedding-3-small\"\n",
    ")\n",
    "index_name = \"bolt-chatbot\"\n",
    "vectorstore = PineconeVectorStore.from_documents(\n",
    "    documents=all_splits,\n",
    "    embedding=embeddings,\n",
    "    index_name=index_name\n",
    ")\n"
   ]
  },
  {
   "cell_type": "code",
   "execution_count": null,
   "metadata": {},
   "outputs": [],
   "source": [
    "retriever = vectorstore.as_retriever(search_type=\"similarity\", search_kwargs={\"k\": 7})\n",
    "retrieved_docs = retriever.invoke(\"What is a closed course?\")\n",
    "\n",
    "len(retrieved_docs)"
   ]
  },
  {
   "cell_type": "code",
   "execution_count": null,
   "metadata": {},
   "outputs": [],
   "source": [
    "print(retrieved_docs[0].page_content)"
   ]
  },
  {
   "cell_type": "code",
   "execution_count": null,
   "metadata": {},
   "outputs": [],
   "source": [
    "from langchain_core.output_parsers import StrOutputParser\n",
    "from langchain.prompts import PromptTemplate\n",
    "\n",
    "parser = StrOutputParser()\n",
    "\n",
    "template = \"\"\" \n",
    "Answer the question based on the context below. You are an academic advisor for UBCO students. Don't start by saying, based on provided context. \n",
    "If you don't the answer of something, just say I can only help you with academic advising.\n",
    "Students might give you courses, and ask details about their final exams. Provide them date, time and location for all their courses.\n",
    "\n",
    "Context: {context}\n",
    "\n",
    "Question: {question}\n",
    "\"\"\"\n",
    "\n",
    "prompt = PromptTemplate.from_template(template)\n",
    "prompt.format(context=\"here is some context\", question=\"here is a question\")\n",
    "\n"
   ]
  },
  {
   "cell_type": "code",
   "execution_count": 140,
   "metadata": {},
   "outputs": [],
   "source": [
    "from operator import itemgetter\n",
    "\n",
    "chain = (\n",
    "    {\n",
    "        \"context\": itemgetter(\"question\") | retriever,\n",
    "        \"question\": itemgetter(\"question\"),\n",
    "    }\n",
    "    | prompt\n",
    "    | model\n",
    "    | parser\n",
    ")"
   ]
  },
  {
   "cell_type": "code",
   "execution_count": null,
   "metadata": {},
   "outputs": [],
   "source": [
    "question = input()\n",
    "print(f\"Question: {question}\")\n",
    "print(f\"Answer: {chain.invoke({'question': question})}\")\n",
    "print()"
   ]
  },
  {
   "cell_type": "code",
   "execution_count": null,
   "metadata": {},
   "outputs": [],
   "source": []
  }
 ],
 "metadata": {
  "kernelspec": {
   "display_name": "venv",
   "language": "python",
   "name": "python3"
  },
  "language_info": {
   "codemirror_mode": {
    "name": "ipython",
    "version": 3
   },
   "file_extension": ".py",
   "mimetype": "text/x-python",
   "name": "python",
   "nbconvert_exporter": "python",
   "pygments_lexer": "ipython3",
   "version": "3.12.7"
  }
 },
 "nbformat": 4,
 "nbformat_minor": 2
}
